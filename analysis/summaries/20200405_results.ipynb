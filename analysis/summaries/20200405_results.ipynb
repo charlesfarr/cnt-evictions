{
 "cells": [
  {
   "cell_type": "markdown",
   "metadata": {},
   "source": [
    "# Results for linear regression (ht_ami, eviction_rate)"
   ]
  },
  {
   "cell_type": "code",
   "execution_count": 2,
   "metadata": {},
   "outputs": [
    {
     "ename": "NameError",
     "evalue": "name 'cbsa_list' is not defined",
     "output_type": "error",
     "traceback": [
      "\u001b[1;31m---------------------------------------------------------------------------\u001b[0m",
      "\u001b[1;31mNameError\u001b[0m                                 Traceback (most recent call last)",
      "\u001b[1;32m<ipython-input-2-93c217de52e5>\u001b[0m in \u001b[0;36m<module>\u001b[1;34m\u001b[0m\n\u001b[0;32m      4\u001b[0m \u001b[1;33m\u001b[0m\u001b[0m\n\u001b[0;32m      5\u001b[0m \u001b[1;31m# iterate through each CBSA and output the results\u001b[0m\u001b[1;33m\u001b[0m\u001b[1;33m\u001b[0m\u001b[1;33m\u001b[0m\u001b[0m\n\u001b[1;32m----> 6\u001b[1;33m \u001b[1;32mfor\u001b[0m \u001b[0mcbsa\u001b[0m \u001b[1;32min\u001b[0m \u001b[0mcbsa_list\u001b[0m\u001b[1;33m:\u001b[0m\u001b[1;33m\u001b[0m\u001b[1;33m\u001b[0m\u001b[0m\n\u001b[0m\u001b[0;32m      7\u001b[0m     \u001b[0mprint\u001b[0m\u001b[1;33m(\u001b[0m\u001b[1;34m'cbsa: '\u001b[0m\u001b[1;33m+\u001b[0m\u001b[0mcbsa\u001b[0m\u001b[1;33m)\u001b[0m\u001b[1;33m\u001b[0m\u001b[1;33m\u001b[0m\u001b[0m\n\u001b[0;32m      8\u001b[0m \u001b[1;33m\u001b[0m\u001b[0m\n",
      "\u001b[1;31mNameError\u001b[0m: name 'cbsa_list' is not defined"
     ]
    }
   ],
   "source": [
    "# iterate through cbsa_lists and generate models\n",
    "\n",
    "predictions = {}\n",
    "\n",
    "# iterate through each CBSA and output the results\n",
    "for cbsa in cbsa_list:\n",
    "    print('cbsa: '+cbsa)\n",
    "    \n",
    "    # create DataFrame for analysis within for loop (limited to one cbsa)\n",
    "    iterated_df = analysis_filtered_df.loc[analysis_filtered_df['cbsa'] == cbsa].copy()\n",
    "    \n",
    "    # select variables\n",
    "    X = iterated_df['ht_ami'].values.reshape(-1, 1)\n",
    "    Y = iterated_df['eviction-rate'].values.reshape(-1, 1)\n",
    "    \n",
    "   # final data clean\n",
    "    X = np.nan_to_num(X) # fill in NULL / NA / NaN values \n",
    "\n",
    "    # add intercept to model\n",
    "    X = sm.add_constant(X)\n",
    "\n",
    "    # create model & prediction\n",
    "    cbsa_model = sm.OLS(Y, X).fit() # sm.OLS(output, input)\n",
    "    cbsa_predictions = model.predict(X)\n",
    "    \n",
    "\n",
    "    # store model & preduction\n",
    "    predictions[cbsa] = [cbsa_model,cbsa_predictions]\n",
    "    \n",
    "    # Print out the statistics and plot\n",
    "    print(cbsa_model.summary())\n",
    "    print('### pvalues:')\n",
    "    print(cbsa_model.pvalues)\n",
    "    print('##############################################')"
   ]
  },
  {
   "cell_type": "markdown",
   "metadata": {},
   "source": [
    "# Results for multi-variable linear regression (h_ami, t_ami, eviction-rate)"
   ]
  },
  {
   "cell_type": "code",
   "execution_count": null,
   "metadata": {},
   "outputs": [],
   "source": [
    "# iterate through cbsa_lists and generate models\n",
    "\n",
    "multi_predictions = {}\n",
    "\n",
    "for cbsa in cbsa_list:\n",
    "    print('cbsa: '+cbsa)\n",
    "    \n",
    "    iterated_df = analysis_filtered_df.loc[analysis_filtered_df['cbsa'] == cbsa].copy()\n",
    "\n",
    "    # identify independent & dependent variables\n",
    "    X = iterated_df[['h_ami','t_ami']] #.values.reshape(-1, 1)\n",
    "    Y = iterated_df['eviction-rate'] #.values.reshape(-1, 1)\n",
    "    \n",
    "    # clean data of NaN values (i.e., NA or NULL)\n",
    "    X = np.nan_to_num(X)\n",
    "\n",
    "    # add intercept to model\n",
    "    X = sm.add_constant(X) ## add an intercept (beta_0) to our model\n",
    "\n",
    "    # create model\n",
    "    cbsa_model = sm.OLS(Y, X).fit() ## sm.OLS(output, input)\n",
    "    \n",
    "    # store results\n",
    "    multi_predictions[cbsa] = [cbsa_model]\n",
    "    \n",
    "    # Print out the statistics\n",
    "    print(cbsa_model.summary())\n",
    "    print('### pvalues:')\n",
    "    print(cbsa_model.pvalues)\n",
    "    print('##############################################')\n",
    "    "
   ]
  },
  {
   "cell_type": "markdown",
   "metadata": {},
   "source": [
    "# Regression on h_ami + t_ami + quantile_pct_af_am"
   ]
  },
  {
   "cell_type": "code",
   "execution_count": null,
   "metadata": {},
   "outputs": [],
   "source": [
    "pd.qcut(analysis_filtered_df_la['pct_af_am'], q=4, duplicates='drop')"
   ]
  },
  {
   "cell_type": "code",
   "execution_count": null,
   "metadata": {},
   "outputs": [],
   "source": [
    "import statsmodels.formula.api as smf\n",
    "results = smf.ols('eviction_rate ~ h_ami + t_ami + quantile_pct_af_am', data = analysis_filtered_df_la).fit()\n",
    "print(results.summary())\n",
    "print('### pvalues')\n",
    "print(results.pvalues)\n",
    "print('##################################')"
   ]
  },
  {
   "cell_type": "code",
   "execution_count": 1,
   "metadata": {},
   "outputs": [
    {
     "ename": "NameError",
     "evalue": "name 'analysis_filtered_df_la' is not defined",
     "output_type": "error",
     "traceback": [
      "\u001b[1;31m---------------------------------------------------------------------------\u001b[0m",
      "\u001b[1;31mNameError\u001b[0m                                 Traceback (most recent call last)",
      "\u001b[1;32m<ipython-input-1-39ab28d6d3b9>\u001b[0m in \u001b[0;36m<module>\u001b[1;34m\u001b[0m\n\u001b[0;32m      1\u001b[0m \u001b[1;32mimport\u001b[0m \u001b[0mstatsmodels\u001b[0m\u001b[1;33m.\u001b[0m\u001b[0mformula\u001b[0m\u001b[1;33m.\u001b[0m\u001b[0mapi\u001b[0m \u001b[1;32mas\u001b[0m \u001b[0msmf\u001b[0m\u001b[1;33m\u001b[0m\u001b[1;33m\u001b[0m\u001b[0m\n\u001b[1;32m----> 2\u001b[1;33m \u001b[0mresults\u001b[0m \u001b[1;33m=\u001b[0m \u001b[0msmf\u001b[0m\u001b[1;33m.\u001b[0m\u001b[0mols\u001b[0m\u001b[1;33m(\u001b[0m\u001b[1;34m'eviction_rate ~ h_ami + t_ami + pct_af_am'\u001b[0m\u001b[1;33m,\u001b[0m \u001b[0mdata\u001b[0m \u001b[1;33m=\u001b[0m \u001b[0manalysis_filtered_df_la\u001b[0m\u001b[1;33m)\u001b[0m\u001b[1;33m.\u001b[0m\u001b[0mfit\u001b[0m\u001b[1;33m(\u001b[0m\u001b[1;33m)\u001b[0m\u001b[1;33m\u001b[0m\u001b[1;33m\u001b[0m\u001b[0m\n\u001b[0m\u001b[0;32m      3\u001b[0m \u001b[0mprint\u001b[0m\u001b[1;33m(\u001b[0m\u001b[0mresults\u001b[0m\u001b[1;33m.\u001b[0m\u001b[0msummary\u001b[0m\u001b[1;33m(\u001b[0m\u001b[1;33m)\u001b[0m\u001b[1;33m)\u001b[0m\u001b[1;33m\u001b[0m\u001b[1;33m\u001b[0m\u001b[0m\n\u001b[0;32m      4\u001b[0m \u001b[0mprint\u001b[0m\u001b[1;33m(\u001b[0m\u001b[1;34m'### pvalues'\u001b[0m\u001b[1;33m)\u001b[0m\u001b[1;33m\u001b[0m\u001b[1;33m\u001b[0m\u001b[0m\n\u001b[0;32m      5\u001b[0m \u001b[0mprint\u001b[0m\u001b[1;33m(\u001b[0m\u001b[0mresults\u001b[0m\u001b[1;33m.\u001b[0m\u001b[0mpvalues\u001b[0m\u001b[1;33m)\u001b[0m\u001b[1;33m\u001b[0m\u001b[1;33m\u001b[0m\u001b[0m\n",
      "\u001b[1;31mNameError\u001b[0m: name 'analysis_filtered_df_la' is not defined"
     ]
    }
   ],
   "source": [
    "import statsmodels.formula.api as smf\n",
    "results = smf.ols('eviction_rate ~ h_ami + t_ami + pct_', data = analysis_filtered_df_la).fit()\n",
    "print(results.summary())\n",
    "print('### pvalues')\n",
    "print(results.pvalues)\n",
    "print('##################################')"
   ]
  },
  {
   "cell_type": "code",
   "execution_count": null,
   "metadata": {},
   "outputs": [],
   "source": []
  }
 ],
 "metadata": {
  "kernelspec": {
   "display_name": "Python 3",
   "language": "python",
   "name": "python3"
  },
  "language_info": {
   "codemirror_mode": {
    "name": "ipython",
    "version": 3
   },
   "file_extension": ".py",
   "mimetype": "text/x-python",
   "name": "python",
   "nbconvert_exporter": "python",
   "pygments_lexer": "ipython3",
   "version": "3.7.6"
  }
 },
 "nbformat": 4,
 "nbformat_minor": 4
}
